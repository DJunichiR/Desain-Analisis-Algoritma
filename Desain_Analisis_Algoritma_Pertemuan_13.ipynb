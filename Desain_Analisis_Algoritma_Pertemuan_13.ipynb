{
  "nbformat": 4,
  "nbformat_minor": 0,
  "metadata": {
    "colab": {
      "provenance": [],
      "authorship_tag": "ABX9TyNnwa/3wQGCg72aMPC2RhNP",
      "include_colab_link": true
    },
    "kernelspec": {
      "name": "python3",
      "display_name": "Python 3"
    },
    "language_info": {
      "name": "python"
    }
  },
  "cells": [
    {
      "cell_type": "markdown",
      "metadata": {
        "id": "view-in-github",
        "colab_type": "text"
      },
      "source": [
        "<a href=\"https://colab.research.google.com/github/DJunichiR/Desain-Analisis-Algoritma/blob/main/Desain_Analisis_Algoritma_Pertemuan_13.ipynb\" target=\"_parent\"><img src=\"https://colab.research.google.com/assets/colab-badge.svg\" alt=\"Open In Colab\"/></a>"
      ]
    },
    {
      "cell_type": "code",
      "execution_count": null,
      "metadata": {
        "id": "12Kcm_kftpuR"
      },
      "outputs": [],
      "source": [
        "def bfs(graph,start):\n",
        "  visited = []\n",
        "  qeue = []\n",
        "  queue = [start]\n",
        "  while queue:\n",
        "    node = queue.pop(0)\n",
        "    if node not in visited:\n",
        "      visited.append(node)\n",
        "      neighbours = graph[node]\n",
        "      for neighbour in neighbours:\n",
        "        queue.append(neighbour)\n",
        "  return visited"
      ]
    },
    {
      "cell_type": "code",
      "source": [
        "graph = {'Amin' : ['Wasim', 'Nick', 'Mike'],\n",
        "         'Wasim' : ['Imran', 'Amin'],\n",
        "         'Imran' : ['Wasim', 'Faras'],\n",
        "         'Faras' : ['Imran'],\n",
        "         'Mike' : ['Amin'],\n",
        "         'Nick' : ['Amin']}"
      ],
      "metadata": {
        "id": "8ghg1XCduXVW"
      },
      "execution_count": null,
      "outputs": []
    },
    {
      "cell_type": "code",
      "source": [
        "# O Amin ---------------------------\n",
        "# |                |                |\n",
        "# O Wasim       O Nick           O Mike\n",
        "# |\n",
        "# O Imran\n",
        "# |\n",
        "# O Faras\n",
        "\n",
        "bfs(graph, 'Amin')"
      ],
      "metadata": {
        "colab": {
          "base_uri": "https://localhost:8080/"
        },
        "id": "1bP8PcJIuhUe",
        "outputId": "888472e0-db62-4eb0-ab59-43c5df181984"
      },
      "execution_count": null,
      "outputs": [
        {
          "output_type": "execute_result",
          "data": {
            "text/plain": [
              "['Amin', 'Wasim', 'Nick', 'Mike', 'Imran', 'Faras']"
            ]
          },
          "metadata": {},
          "execution_count": 7
        }
      ]
    },
    {
      "cell_type": "code",
      "source": [
        "# O Amin ---------------------------\n",
        "# |                |                |\n",
        "# O Wasim       O Nick           O Mike\n",
        "# |\n",
        "# O Imran\n",
        "# |\n",
        "# O Faras\n",
        "\n",
        "bfs(graph, 'Wasim')"
      ],
      "metadata": {
        "colab": {
          "base_uri": "https://localhost:8080/"
        },
        "id": "NS0MhMy4vqnf",
        "outputId": "97ef434d-f030-4dd3-f080-98c55f1a6436"
      },
      "execution_count": null,
      "outputs": [
        {
          "output_type": "execute_result",
          "data": {
            "text/plain": [
              "['Wasim', 'Imran', 'Amin', 'Faras', 'Nick', 'Mike']"
            ]
          },
          "metadata": {},
          "execution_count": 8
        }
      ]
    },
    {
      "cell_type": "code",
      "source": [
        "# O Amin ---------------------------\n",
        "# |                |                |\n",
        "# O Wasim       O Nick           O Mike\n",
        "# |\n",
        "# O Imran\n",
        "# |\n",
        "# O Faras\n",
        "\n",
        "bfs(graph, 'Faras')"
      ],
      "metadata": {
        "colab": {
          "base_uri": "https://localhost:8080/"
        },
        "id": "zrHvpYAWvs6u",
        "outputId": "166c72f4-0ffd-40b0-9f8b-daaaa8864f9f"
      },
      "execution_count": null,
      "outputs": [
        {
          "output_type": "execute_result",
          "data": {
            "text/plain": [
              "['Faras', 'Imran', 'Wasim', 'Amin', 'Nick', 'Mike']"
            ]
          },
          "metadata": {},
          "execution_count": 9
        }
      ]
    },
    {
      "cell_type": "code",
      "source": [
        "# O Amin ---------------------------\n",
        "# |                |                |\n",
        "# O Wasim       O Nick           O Mike\n",
        "# |\n",
        "# O Imran\n",
        "# |\n",
        "# O Faras\n",
        "\n",
        "bfs(graph, 'Nick')"
      ],
      "metadata": {
        "colab": {
          "base_uri": "https://localhost:8080/"
        },
        "id": "7Tge1fkJwhzN",
        "outputId": "d4ada167-d03b-4008-8a55-1b5fdbf73d1d"
      },
      "execution_count": null,
      "outputs": [
        {
          "output_type": "execute_result",
          "data": {
            "text/plain": [
              "['Nick', 'Amin', 'Wasim', 'Mike', 'Imran', 'Faras']"
            ]
          },
          "metadata": {},
          "execution_count": 10
        }
      ]
    },
    {
      "cell_type": "code",
      "source": [
        "# O Amin ---------------------------\n",
        "# |                |                |\n",
        "# O Wasim       O Nick           O Mike\n",
        "# |\n",
        "# O Imran\n",
        "# |\n",
        "# O Faras\n",
        "\n",
        "bfs(graph, 'Mike')"
      ],
      "metadata": {
        "colab": {
          "base_uri": "https://localhost:8080/"
        },
        "id": "I8Be_9Yiwn69",
        "outputId": "0c822020-2a12-429c-e81f-ebc51915fbdb"
      },
      "execution_count": null,
      "outputs": [
        {
          "output_type": "execute_result",
          "data": {
            "text/plain": [
              "['Mike', 'Amin', 'Wasim', 'Nick', 'Imran', 'Faras']"
            ]
          },
          "metadata": {},
          "execution_count": 11
        }
      ]
    },
    {
      "cell_type": "code",
      "source": [
        "graph={'Rektor' : {'Warek1', 'Warek2'},\n",
        "       'Warek1' : {'Rektor',},\n",
        "       'Warek2' : {'Rektor','Kaprodi1', 'Kaprodi2','Kaprodi3'},\n",
        "       'Kaprodi1' : {'Warek2','Dosen A','Dosen B','Dosen C'},\n",
        "       'Dosen A' : {'Kaprodi1'},\n",
        "       'Dosen B' : {'Kaprodi1'},\n",
        "       'Dosen C' : {'Kaprodi1'},\n",
        "       'Kaprodi2' : {'Warek2','Dosen D','Dosen E'},\n",
        "       'Dosen D' : {'Kaprodi2'},\n",
        "       'Dosen E' : {'Kaprodi2'},\n",
        "       'Kaprodi3' : {'Warek2','Dosen F','Dosen G'},\n",
        "       'Dosen F': {'Kaprodi3'},\n",
        "       'Dosen G' : {'Kaprodi3'}}"
      ],
      "metadata": {
        "id": "Z7D2h5MVxfsl"
      },
      "execution_count": null,
      "outputs": []
    },
    {
      "cell_type": "code",
      "source": [
        "bfs(graph, 'Rektor')"
      ],
      "metadata": {
        "colab": {
          "base_uri": "https://localhost:8080/"
        },
        "id": "1peStO3-wd5E",
        "outputId": "60d7e66f-feae-44e0-ad75-1ba015857b48"
      },
      "execution_count": null,
      "outputs": [
        {
          "output_type": "execute_result",
          "data": {
            "text/plain": [
              "['Rektor',\n",
              " 'Warek1',\n",
              " 'Warek2',\n",
              " 'Kaprodi1',\n",
              " 'Kaprodi2',\n",
              " 'Kaprodi3',\n",
              " 'Dosen C',\n",
              " 'Dosen B',\n",
              " 'Dosen A',\n",
              " 'Dosen D',\n",
              " 'Dosen E',\n",
              " 'Dosen G',\n",
              " 'Dosen F']"
            ]
          },
          "metadata": {},
          "execution_count": 23
        }
      ]
    },
    {
      "cell_type": "code",
      "source": [
        "bfs(graph, 'Warek1')"
      ],
      "metadata": {
        "colab": {
          "base_uri": "https://localhost:8080/"
        },
        "id": "Lku9oRtIyhne",
        "outputId": "7b017362-56e6-43e9-82f5-58206e883b61"
      },
      "execution_count": null,
      "outputs": [
        {
          "output_type": "execute_result",
          "data": {
            "text/plain": [
              "['Warek1',\n",
              " 'Warek2',\n",
              " 'Rektor',\n",
              " 'Kaprodi1',\n",
              " 'Kaprodi2',\n",
              " 'Kaprodi3',\n",
              " 'Dosen C',\n",
              " 'Dosen B',\n",
              " 'Dosen A',\n",
              " 'Dosen D',\n",
              " 'Dosen E',\n",
              " 'Dosen G',\n",
              " 'Dosen F']"
            ]
          },
          "metadata": {},
          "execution_count": 24
        }
      ]
    },
    {
      "cell_type": "code",
      "source": [
        "bfs(graph, 'Warek2')"
      ],
      "metadata": {
        "colab": {
          "base_uri": "https://localhost:8080/"
        },
        "id": "vlD3X0g3yqfu",
        "outputId": "c7c5716e-1d78-4dab-ab6d-417079089f99"
      },
      "execution_count": null,
      "outputs": [
        {
          "output_type": "execute_result",
          "data": {
            "text/plain": [
              "['Warek2',\n",
              " 'Kaprodi1',\n",
              " 'Kaprodi2',\n",
              " 'Kaprodi3',\n",
              " 'Warek1',\n",
              " 'Rektor',\n",
              " 'Dosen C',\n",
              " 'Dosen B',\n",
              " 'Dosen A',\n",
              " 'Dosen D',\n",
              " 'Dosen E',\n",
              " 'Dosen G',\n",
              " 'Dosen F']"
            ]
          },
          "metadata": {},
          "execution_count": 25
        }
      ]
    },
    {
      "cell_type": "code",
      "source": [
        "bfs(graph, 'Kaprodi1')"
      ],
      "metadata": {
        "colab": {
          "base_uri": "https://localhost:8080/"
        },
        "id": "EBBaWA0WysCd",
        "outputId": "abcb5b39-321b-4087-f6cc-567fad98fdfb"
      },
      "execution_count": null,
      "outputs": [
        {
          "output_type": "execute_result",
          "data": {
            "text/plain": [
              "['Kaprodi1',\n",
              " 'Warek2',\n",
              " 'Dosen C',\n",
              " 'Dosen B',\n",
              " 'Dosen A',\n",
              " 'Kaprodi2',\n",
              " 'Kaprodi3',\n",
              " 'Warek1',\n",
              " 'Rektor',\n",
              " 'Dosen D',\n",
              " 'Dosen E',\n",
              " 'Dosen G',\n",
              " 'Dosen F']"
            ]
          },
          "metadata": {},
          "execution_count": 26
        }
      ]
    },
    {
      "cell_type": "code",
      "source": [
        "bfs(graph, 'Kaprodi2')"
      ],
      "metadata": {
        "colab": {
          "base_uri": "https://localhost:8080/"
        },
        "id": "xhinMa4AyxE9",
        "outputId": "bfba6b0b-73cb-4f3c-dc66-6d8c4c6e1a72"
      },
      "execution_count": null,
      "outputs": [
        {
          "output_type": "execute_result",
          "data": {
            "text/plain": [
              "['Kaprodi2',\n",
              " 'Warek2',\n",
              " 'Dosen D',\n",
              " 'Dosen E',\n",
              " 'Kaprodi1',\n",
              " 'Kaprodi3',\n",
              " 'Warek1',\n",
              " 'Rektor',\n",
              " 'Dosen C',\n",
              " 'Dosen B',\n",
              " 'Dosen A',\n",
              " 'Dosen G',\n",
              " 'Dosen F']"
            ]
          },
          "metadata": {},
          "execution_count": 27
        }
      ]
    },
    {
      "cell_type": "code",
      "source": [
        "bfs(graph, 'Kaprodi3')"
      ],
      "metadata": {
        "colab": {
          "base_uri": "https://localhost:8080/"
        },
        "id": "53Bm755JyyoN",
        "outputId": "801dd5fc-51eb-4e03-e80f-02e336bcf6e0"
      },
      "execution_count": null,
      "outputs": [
        {
          "output_type": "execute_result",
          "data": {
            "text/plain": [
              "['Kaprodi3',\n",
              " 'Dosen G',\n",
              " 'Dosen F',\n",
              " 'Warek2',\n",
              " 'Kaprodi1',\n",
              " 'Kaprodi2',\n",
              " 'Warek1',\n",
              " 'Rektor',\n",
              " 'Dosen C',\n",
              " 'Dosen B',\n",
              " 'Dosen A',\n",
              " 'Dosen D',\n",
              " 'Dosen E']"
            ]
          },
          "metadata": {},
          "execution_count": 29
        }
      ]
    },
    {
      "cell_type": "code",
      "source": [
        "bfs(graph, 'Dosen A')"
      ],
      "metadata": {
        "colab": {
          "base_uri": "https://localhost:8080/"
        },
        "id": "8xJkLy57CXzE",
        "outputId": "cad894e9-d726-4c61-9101-78dd4e68aa1e"
      },
      "execution_count": null,
      "outputs": [
        {
          "output_type": "execute_result",
          "data": {
            "text/plain": [
              "['Dosen A',\n",
              " 'Kaprodi1',\n",
              " 'Warek2',\n",
              " 'Dosen C',\n",
              " 'Dosen B',\n",
              " 'Kaprodi2',\n",
              " 'Kaprodi3',\n",
              " 'Warek1',\n",
              " 'Rektor',\n",
              " 'Dosen D',\n",
              " 'Dosen E',\n",
              " 'Dosen G',\n",
              " 'Dosen F']"
            ]
          },
          "metadata": {},
          "execution_count": 31
        }
      ]
    },
    {
      "cell_type": "code",
      "source": [
        "bfs(graph, 'Dosen B')"
      ],
      "metadata": {
        "colab": {
          "base_uri": "https://localhost:8080/"
        },
        "id": "KjYOvcV9ClHy",
        "outputId": "5bae7c4a-2c1a-4a8c-cc6c-a016e3d33d49"
      },
      "execution_count": null,
      "outputs": [
        {
          "output_type": "execute_result",
          "data": {
            "text/plain": [
              "['Dosen B',\n",
              " 'Kaprodi1',\n",
              " 'Warek2',\n",
              " 'Dosen C',\n",
              " 'Dosen A',\n",
              " 'Kaprodi2',\n",
              " 'Kaprodi3',\n",
              " 'Warek1',\n",
              " 'Rektor',\n",
              " 'Dosen D',\n",
              " 'Dosen E',\n",
              " 'Dosen G',\n",
              " 'Dosen F']"
            ]
          },
          "metadata": {},
          "execution_count": 32
        }
      ]
    },
    {
      "cell_type": "code",
      "source": [
        "bfs(graph, 'Dosen C')"
      ],
      "metadata": {
        "colab": {
          "base_uri": "https://localhost:8080/"
        },
        "id": "t_wb40tICnOB",
        "outputId": "cbc8e243-a43c-425e-91ec-9001632f4d5b"
      },
      "execution_count": null,
      "outputs": [
        {
          "output_type": "execute_result",
          "data": {
            "text/plain": [
              "['Dosen C',\n",
              " 'Kaprodi1',\n",
              " 'Warek2',\n",
              " 'Dosen B',\n",
              " 'Dosen A',\n",
              " 'Kaprodi2',\n",
              " 'Kaprodi3',\n",
              " 'Warek1',\n",
              " 'Rektor',\n",
              " 'Dosen D',\n",
              " 'Dosen E',\n",
              " 'Dosen G',\n",
              " 'Dosen F']"
            ]
          },
          "metadata": {},
          "execution_count": 33
        }
      ]
    },
    {
      "cell_type": "code",
      "source": [
        "bfs(graph, 'Dosen D')"
      ],
      "metadata": {
        "colab": {
          "base_uri": "https://localhost:8080/"
        },
        "id": "ZsbEZPi7CpJ5",
        "outputId": "ba465ac6-a8e7-4e88-8669-4c61b3575fff"
      },
      "execution_count": null,
      "outputs": [
        {
          "output_type": "execute_result",
          "data": {
            "text/plain": [
              "['Dosen D',\n",
              " 'Kaprodi2',\n",
              " 'Warek2',\n",
              " 'Dosen E',\n",
              " 'Kaprodi1',\n",
              " 'Kaprodi3',\n",
              " 'Warek1',\n",
              " 'Rektor',\n",
              " 'Dosen C',\n",
              " 'Dosen B',\n",
              " 'Dosen A',\n",
              " 'Dosen G',\n",
              " 'Dosen F']"
            ]
          },
          "metadata": {},
          "execution_count": 34
        }
      ]
    },
    {
      "cell_type": "code",
      "source": [
        "bfs(graph, 'Dosen E')"
      ],
      "metadata": {
        "colab": {
          "base_uri": "https://localhost:8080/"
        },
        "id": "GREVRE2pCrYr",
        "outputId": "43e17b94-bb87-4a6a-b693-8ede44b429c3"
      },
      "execution_count": null,
      "outputs": [
        {
          "output_type": "execute_result",
          "data": {
            "text/plain": [
              "['Dosen E',\n",
              " 'Kaprodi2',\n",
              " 'Warek2',\n",
              " 'Dosen D',\n",
              " 'Kaprodi1',\n",
              " 'Kaprodi3',\n",
              " 'Warek1',\n",
              " 'Rektor',\n",
              " 'Dosen C',\n",
              " 'Dosen B',\n",
              " 'Dosen A',\n",
              " 'Dosen G',\n",
              " 'Dosen F']"
            ]
          },
          "metadata": {},
          "execution_count": 35
        }
      ]
    },
    {
      "cell_type": "code",
      "source": [
        "bfs(graph, 'Dosen F')"
      ],
      "metadata": {
        "colab": {
          "base_uri": "https://localhost:8080/"
        },
        "id": "BpMCKFLOCsvb",
        "outputId": "f635dd95-f5f1-44ad-acc4-a6e34bc2d90c"
      },
      "execution_count": null,
      "outputs": [
        {
          "output_type": "execute_result",
          "data": {
            "text/plain": [
              "['Dosen F',\n",
              " 'Kaprodi3',\n",
              " 'Dosen G',\n",
              " 'Warek2',\n",
              " 'Kaprodi1',\n",
              " 'Kaprodi2',\n",
              " 'Warek1',\n",
              " 'Rektor',\n",
              " 'Dosen C',\n",
              " 'Dosen B',\n",
              " 'Dosen A',\n",
              " 'Dosen D',\n",
              " 'Dosen E']"
            ]
          },
          "metadata": {},
          "execution_count": 36
        }
      ]
    },
    {
      "cell_type": "code",
      "source": [
        "bfs(graph, 'Dosen G')"
      ],
      "metadata": {
        "colab": {
          "base_uri": "https://localhost:8080/"
        },
        "id": "icX608YBCvjK",
        "outputId": "feda95ce-6588-4c58-d58b-c455a587fb11"
      },
      "execution_count": null,
      "outputs": [
        {
          "output_type": "execute_result",
          "data": {
            "text/plain": [
              "['Dosen G',\n",
              " 'Kaprodi3',\n",
              " 'Dosen F',\n",
              " 'Warek2',\n",
              " 'Kaprodi1',\n",
              " 'Kaprodi2',\n",
              " 'Warek1',\n",
              " 'Rektor',\n",
              " 'Dosen C',\n",
              " 'Dosen B',\n",
              " 'Dosen A',\n",
              " 'Dosen D',\n",
              " 'Dosen E']"
            ]
          },
          "metadata": {},
          "execution_count": 37
        }
      ]
    },
    {
      "cell_type": "code",
      "source": [
        "graph={'0' : {'11', '7','6','3','5','4','9','10'},\n",
        "       '11' : {'0','7','6','5','3','4'},\n",
        "       'Warek2' : {'Rektor','Kaprodi1', 'Kaprodi2','Kaprodi3'},\n",
        "       'Kaprodi1' : {'Warek2','Dosen A','Dosen B','Dosen C'},\n",
        "       'Dosen A' : {'Kaprodi1'},\n",
        "       'Dosen B' : {'Kaprodi1'},\n",
        "       'Dosen C' : {'Kaprodi1'},\n",
        "       'Kaprodi2' : {'Warek2','Dosen D','Dosen E'},\n",
        "       'Dosen D' : {'Kaprodi2'},\n",
        "       'Dosen E' : {'Kaprodi2'},\n",
        "       'Kaprodi3' : {'Warek2','Dosen F','Dosen G'},\n",
        "       'Dosen F': {'Kaprodi3'},\n",
        "       'Dosen G' : {'Kaprodi3'}}"
      ],
      "metadata": {
        "id": "dNdT_ieOBjnt"
      },
      "execution_count": null,
      "outputs": []
    },
    {
      "cell_type": "code",
      "source": [
        "graph3 = {'0' : ['9', '7', '11'],\n",
        "          '1' : ['10', '8'],\n",
        "          '2' : ['12', '3'],\n",
        "          '3' : ['2', '4', '7'],\n",
        "          '4' : ['3'],\n",
        "          '5' : ['6'],\n",
        "          '6' : ['5', '7'],\n",
        "          '7' : ['3', '6', '11', '0'],\n",
        "          '8' : ['9', '1', '12'],\n",
        "          '9' : ['10', '8', '0'],\n",
        "          '10' : ['1', '9'],\n",
        "          '11' : ['0', '7'],\n",
        "          '12' : ['8', '2']\n",
        "          }"
      ],
      "metadata": {
        "id": "A_Cs_PFuNpoD"
      },
      "execution_count": null,
      "outputs": []
    },
    {
      "cell_type": "code",
      "source": [
        "bfs(graph3, '0')"
      ],
      "metadata": {
        "id": "5upX1qEDNsfi",
        "outputId": "9268a16d-deda-4bcd-ecc5-103905f1f7ef",
        "colab": {
          "base_uri": "https://localhost:8080/"
        }
      },
      "execution_count": null,
      "outputs": [
        {
          "output_type": "execute_result",
          "data": {
            "text/plain": [
              "['0', '9', '7', '11', '10', '8', '3', '6', '1', '12', '2', '4', '5']"
            ]
          },
          "metadata": {},
          "execution_count": 39
        }
      ]
    }
  ]
}