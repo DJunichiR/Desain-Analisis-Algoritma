{
  "nbformat": 4,
  "nbformat_minor": 0,
  "metadata": {
    "colab": {
      "provenance": [],
      "authorship_tag": "ABX9TyN0/mdbb5qr5eIzELpfSqB6",
      "include_colab_link": true
    },
    "kernelspec": {
      "name": "python3",
      "display_name": "Python 3"
    },
    "language_info": {
      "name": "python"
    }
  },
  "cells": [
    {
      "cell_type": "markdown",
      "metadata": {
        "id": "view-in-github",
        "colab_type": "text"
      },
      "source": [
        "<a href=\"https://colab.research.google.com/github/DJunichiR/Desain-Analisis-Algoritma/blob/main/Desain_Analisis_Algoritma_PERTEMUAN_3.ipynb\" target=\"_parent\"><img src=\"https://colab.research.google.com/assets/colab-badge.svg\" alt=\"Open In Colab\"/></a>"
      ]
    },
    {
      "cell_type": "code",
      "execution_count": null,
      "metadata": {
        "id": "ZYqtXXAdKJ2o",
        "colab": {
          "base_uri": "https://localhost:8080/"
        },
        "outputId": "d073bf61-9ddb-4eaf-a43c-99ce1709019f"
      },
      "outputs": [
        {
          "output_type": "stream",
          "name": "stdout",
          "text": [
            "['Dapa', '2022071006', 'Informatika', 'Desain Analisis Algoritma', '2023-09-13', 'Universitas Pembangunan Jaya']\n"
          ]
        }
      ],
      "source": [
        "#UNTUK MENAMPILKAN DATA DI DALAM LIST\n",
        "import numpy as np\n",
        "import datetime\n",
        "tanggal = datetime.date.today ()\n",
        "\n",
        "\n",
        "aList_nama = [\"Dapa\",\n",
        "              \"2022071006\",\n",
        "              \"Informatika\",\n",
        "              \"Desain Analisis Algoritma\",\n",
        "              str(tanggal),\n",
        "              \"Universitas Pembangunan Jaya\"]\n",
        "print(aList_nama)"
      ]
    },
    {
      "cell_type": "code",
      "source": [
        "import numpy as np\n",
        "\n",
        "bin_colors = ['Red', 'Green', 'Blue', 'Yellow']\n",
        "bin_colors[-1] #kalo pake - jadi ngitung dari belakang"
      ],
      "metadata": {
        "colab": {
          "base_uri": "https://localhost:8080/",
          "height": 35
        },
        "id": "YRlfV21mO0M1",
        "outputId": "6888c181-60f8-402e-a6b8-02a4d4ccf323"
      },
      "execution_count": null,
      "outputs": [
        {
          "output_type": "execute_result",
          "data": {
            "text/plain": [
              "'Yellow'"
            ],
            "application/vnd.google.colaboratory.intrinsic+json": {
              "type": "string"
            }
          },
          "metadata": {},
          "execution_count": 32
        }
      ]
    },
    {
      "cell_type": "code",
      "source": [
        "import numpy as np\n",
        "import datetime\n",
        "tanggal = datetime.date.today ()\n",
        "\n",
        "\n",
        "aList_nama = [\"Daffa Junichi Rahmadi\",  \"2022071006\", \"Informatika\", \"Desain Analisis Algoritma\", str(tanggal), \"Universitas Pembangunan Jaya\"]\n",
        "print(\"NIM Daffa Junichi Rahmadi : \", aList_nama[1])  #UNTUK MENAMPILKAN NIM NYA SAJA\n"
      ],
      "metadata": {
        "colab": {
          "base_uri": "https://localhost:8080/"
        },
        "id": "3qwhsHZTQmh-",
        "outputId": "526fc3a0-6e73-49fc-d77b-b1974be2e824"
      },
      "execution_count": null,
      "outputs": [
        {
          "output_type": "stream",
          "name": "stdout",
          "text": [
            "NIM Daffa Junichi Rahmadi :  2022071006\n"
          ]
        }
      ]
    },
    {
      "cell_type": "code",
      "source": [
        "import numpy as np\n",
        "\n",
        "bin_colors = ['Red', 'Green', 'Blue', 'Yellow', \"White\", \"Black\", \"Grey\"]\n",
        "bin_colors[0:3] #MENAMPILKAN 3 DATA DIMULAI DARI 0 DISEBUTNYA SLICING\n"
      ],
      "metadata": {
        "colab": {
          "base_uri": "https://localhost:8080/"
        },
        "id": "ledOnQfqT_6D",
        "outputId": "f66c580f-8858-4168-96ba-808074b62514"
      },
      "execution_count": null,
      "outputs": [
        {
          "output_type": "execute_result",
          "data": {
            "text/plain": [
              "['Red', 'Green', 'Blue']"
            ]
          },
          "metadata": {},
          "execution_count": 53
        }
      ]
    },
    {
      "cell_type": "code",
      "source": [
        "bin_colors=[\"Red\",\"Green\",\"Blue\",\"Yellow\"]\n",
        "for aColor in bin_colors:\n",
        "  print(aColor + \"Square\")"
      ],
      "metadata": {
        "colab": {
          "base_uri": "https://localhost:8080/"
        },
        "id": "hAhGXfc-XH9R",
        "outputId": "94aae162-0051-428a-ca54-b5f2021e4ac9"
      },
      "execution_count": null,
      "outputs": [
        {
          "output_type": "stream",
          "name": "stdout",
          "text": [
            "RedSquare\n",
            "GreenSquare\n",
            "BlueSquare\n",
            "YellowSquare\n"
          ]
        }
      ]
    },
    {
      "cell_type": "code",
      "source": [
        "import numpy as np\n",
        "import datetime\n",
        "tanggal = datetime.date.today ()\n",
        "\n",
        "\n",
        "aList_nama = [\"Dapa\",  \"2022071006\", \"Informatika\", \"Desain Analisis Algoritma\", str(tanggal), \"Universitas Pembangunan Jaya\"]\n",
        "for Mahasiswa in aList_nama:\n",
        "    print(\"UPJ \" + Mahasiswa) #UNTUK MENAMBAH KATA \"UPJ\" KE DALAM LIST YANG SUDAH DIBUAT"
      ],
      "metadata": {
        "colab": {
          "base_uri": "https://localhost:8080/"
        },
        "id": "Ps1nGcabXiLH",
        "outputId": "53ab01b9-0d62-44c4-f533-a6182c4e0abb"
      },
      "execution_count": null,
      "outputs": [
        {
          "output_type": "stream",
          "name": "stdout",
          "text": [
            "UPJ Dapa\n",
            "UPJ 2022071006\n",
            "UPJ Informatika\n",
            "UPJ Desain Analisis Algoritma\n",
            "UPJ 2023-09-13\n",
            "UPJ Universitas Pembangunan Jaya\n"
          ]
        }
      ]
    },
    {
      "cell_type": "code",
      "source": [
        "#NESTED TUPLE\n",
        "Pertama=(\"100\")\n",
        "Kedua=(\"200\", \"400\", \"600\")\n",
        "Ketiga=(\"300\")\n",
        "Keempat=(\"400\", \"800\")\n",
        "Total = (Pertama,Kedua,Ketiga,Keempat)\n",
        "print(Total)"
      ],
      "metadata": {
        "colab": {
          "base_uri": "https://localhost:8080/"
        },
        "id": "cwt4rrPWecfd",
        "outputId": "8092dc96-e82d-4ada-84ef-46d9cfad4bbe"
      },
      "execution_count": null,
      "outputs": [
        {
          "output_type": "stream",
          "name": "stdout",
          "text": [
            "('100', ('200', '400', '600'), '300', ('400', '800'))\n"
          ]
        }
      ]
    },
    {
      "cell_type": "code",
      "source": [
        "#DICTIONARY\n",
        "import numpy as np\n",
        "\n",
        "bin_mahasiswa = {\"NAMA\"  :\"Dapa\",\n",
        "              \"NIM \" : \"2022071006\",\n",
        "              \"Prodi \" : \"Informatika\",\n",
        "              \"Mata Kuliah\" : \"Desain Analisis Algoritma\",\n",
        "              \"Universitas\" : \"Universitas Pembangunan Jaya\"}\n",
        "print(bin_mahasiswa)"
      ],
      "metadata": {
        "colab": {
          "base_uri": "https://localhost:8080/",
          "height": 141
        },
        "id": "VjrKJBstLez9",
        "outputId": "1a8c334f-00c6-409a-f801-306c32828d4a"
      },
      "execution_count": null,
      "outputs": [
        {
          "output_type": "error",
          "ename": "SyntaxError",
          "evalue": "ignored",
          "traceback": [
            "\u001b[0;36m  File \u001b[0;32m\"<ipython-input-90-19682c36c93a>\"\u001b[0;36m, line \u001b[0;32m9\u001b[0m\n\u001b[0;31m    print(/nbin_mahasiswa)\u001b[0m\n\u001b[0m          ^\u001b[0m\n\u001b[0;31mSyntaxError\u001b[0m\u001b[0;31m:\u001b[0m invalid syntax\n"
          ]
        }
      ]
    },
    {
      "cell_type": "code",
      "source": [
        "#Inisiasi Set\n",
        "set_01 = {4,5,6,2}\n",
        "print(\"set_01 = \", set_01)\n",
        "\n",
        "#inisiasi mengubah list menjadi set\n",
        "set_02 = set()\n",
        "set_03 = set([2,1,4,3])\n",
        "\n",
        "print(type(set_02))\n",
        "print(\"set_03 = \", set_03)\n",
        "\n",
        "print(\"\\nmenambah\")\n",
        "set_01.add(576)\n",
        "print(set_01)\n",
        "\n",
        "print(\"\\nmenghapus\")\n",
        "set_01.discard(6)\n",
        "print(set_01)\n",
        "\n",
        "print(\"\\nunion\")\n",
        "print(set_01|set_03)\n",
        "print(\"\\nintersection\")\n",
        "print(set_01&set_03)\n",
        "\n",
        "print(\"\\ndifference\")\n",
        "print(set_01-set_03)\n",
        "\n",
        "print(\"\\nsymmetric difference\")\n",
        "print(set_01^set_03)"
      ],
      "metadata": {
        "id": "9o5qCuHDqyZa",
        "colab": {
          "base_uri": "https://localhost:8080/"
        },
        "outputId": "7b02774c-ff43-4a68-c9d6-b03344b601f7"
      },
      "execution_count": null,
      "outputs": [
        {
          "output_type": "stream",
          "name": "stdout",
          "text": [
            "set_01 =  {2, 4, 5, 6}\n",
            "<class 'set'>\n",
            "set_03 =  {1, 2, 3, 4}\n",
            "\n",
            "menambah\n",
            "{576, 2, 4, 5, 6}\n",
            "\n",
            "menghapus\n",
            "{576, 2, 4, 5}\n",
            "\n",
            "union\n",
            "{576, 1, 2, 3, 4, 5}\n",
            "\n",
            "intersection\n",
            "{2, 4}\n",
            "\n",
            "difference\n",
            "{576, 5}\n",
            "\n",
            "symmetric difference\n",
            "{576, 1, 3, 5}\n"
          ]
        }
      ]
    },
    {
      "cell_type": "code",
      "source": [
        "red = {\"dandelions\", \"leaves\", \"fire hydrant\"}\n",
        "green = {\"rose\", \"blood\", \"leaves\", \"fire hydrant\"}\n",
        "\n",
        "print(red|green)\n",
        "print(red&green)"
      ],
      "metadata": {
        "colab": {
          "base_uri": "https://localhost:8080/"
        },
        "id": "vkJEE8NGwwBa",
        "outputId": "5523fb88-bd22-4e2d-de76-cda04222f7d0"
      },
      "execution_count": null,
      "outputs": [
        {
          "output_type": "stream",
          "name": "stdout",
          "text": [
            "{'dandelions', 'blood', 'leaves', 'rose', 'fire hydrant'}\n",
            "{'leaves', 'fire hydrant'}\n"
          ]
        }
      ]
    },
    {
      "cell_type": "code",
      "source": [
        "import numpy as np\n",
        "\n",
        "matrix = np.array([\n",
        "    [100, 200, 300],\n",
        "    [700, 600, 500],\n",
        "    [900, 1000, 800]\n",
        "    ])\n",
        "\n",
        "print(matrix)\n",
        "\n",
        "print(\"\\nTranspose:\")\n",
        "print(matrix.T)"
      ],
      "metadata": {
        "colab": {
          "base_uri": "https://localhost:8080/"
        },
        "id": "InJXt__dwy5y",
        "outputId": "0f913f08-bd70-4eaa-8177-e9274245be3a"
      },
      "execution_count": null,
      "outputs": [
        {
          "output_type": "stream",
          "name": "stdout",
          "text": [
            "[[ 100  200  300]\n",
            " [ 700  600  500]\n",
            " [ 900 1000  800]]\n",
            "\n",
            "Transpose:\n",
            "[[ 100  700  900]\n",
            " [ 200  600 1000]\n",
            " [ 300  500  800]]\n"
          ]
        }
      ]
    },
    {
      "cell_type": "code",
      "source": [
        "import pandas as pd\n",
        "\n",
        "df = pd.DataFrame([\n",
        "    [1, \"Informatika\", 50, 30, 20],\n",
        "    [2, \"Sistem Informasi\", 55, 30, 25],\n",
        "    [3, \"Teknik Sipil\", 40, 30, 10]\n",
        "])\n",
        "\n",
        "df.columns = [\"No\", \"Prodi\", \"Mahasiswa\", \"laki-laki\", \"Perempuan\"]\n",
        "df.style.hide(axis='index')"
      ],
      "metadata": {
        "colab": {
          "base_uri": "https://localhost:8080/",
          "height": 143
        },
        "id": "_hnYT_hkw1ga",
        "outputId": "28a567ed-3b53-4ec6-dbf2-89af8196b11e"
      },
      "execution_count": null,
      "outputs": [
        {
          "output_type": "execute_result",
          "data": {
            "text/plain": [
              "<pandas.io.formats.style.Styler at 0x7a00a4941db0>"
            ],
            "text/html": [
              "<style type=\"text/css\">\n",
              "</style>\n",
              "<table id=\"T_56531\" class=\"dataframe\">\n",
              "  <thead>\n",
              "    <tr>\n",
              "      <th id=\"T_56531_level0_col0\" class=\"col_heading level0 col0\" >No</th>\n",
              "      <th id=\"T_56531_level0_col1\" class=\"col_heading level0 col1\" >Prodi</th>\n",
              "      <th id=\"T_56531_level0_col2\" class=\"col_heading level0 col2\" >Mahasiswa</th>\n",
              "      <th id=\"T_56531_level0_col3\" class=\"col_heading level0 col3\" >laki-laki</th>\n",
              "      <th id=\"T_56531_level0_col4\" class=\"col_heading level0 col4\" >Perempuan</th>\n",
              "    </tr>\n",
              "  </thead>\n",
              "  <tbody>\n",
              "    <tr>\n",
              "      <td id=\"T_56531_row0_col0\" class=\"data row0 col0\" >1</td>\n",
              "      <td id=\"T_56531_row0_col1\" class=\"data row0 col1\" >Informatika</td>\n",
              "      <td id=\"T_56531_row0_col2\" class=\"data row0 col2\" >50</td>\n",
              "      <td id=\"T_56531_row0_col3\" class=\"data row0 col3\" >30</td>\n",
              "      <td id=\"T_56531_row0_col4\" class=\"data row0 col4\" >20</td>\n",
              "    </tr>\n",
              "    <tr>\n",
              "      <td id=\"T_56531_row1_col0\" class=\"data row1 col0\" >2</td>\n",
              "      <td id=\"T_56531_row1_col1\" class=\"data row1 col1\" >Sistem Informasi</td>\n",
              "      <td id=\"T_56531_row1_col2\" class=\"data row1 col2\" >55</td>\n",
              "      <td id=\"T_56531_row1_col3\" class=\"data row1 col3\" >30</td>\n",
              "      <td id=\"T_56531_row1_col4\" class=\"data row1 col4\" >25</td>\n",
              "    </tr>\n",
              "    <tr>\n",
              "      <td id=\"T_56531_row2_col0\" class=\"data row2 col0\" >3</td>\n",
              "      <td id=\"T_56531_row2_col1\" class=\"data row2 col1\" >Teknik Sipil</td>\n",
              "      <td id=\"T_56531_row2_col2\" class=\"data row2 col2\" >40</td>\n",
              "      <td id=\"T_56531_row2_col3\" class=\"data row2 col3\" >30</td>\n",
              "      <td id=\"T_56531_row2_col4\" class=\"data row2 col4\" >10</td>\n",
              "    </tr>\n",
              "  </tbody>\n",
              "</table>\n"
            ]
          },
          "metadata": {},
          "execution_count": 94
        }
      ]
    }
  ]
}