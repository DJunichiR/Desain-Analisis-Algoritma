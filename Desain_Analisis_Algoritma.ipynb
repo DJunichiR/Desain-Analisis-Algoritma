{
  "nbformat": 4,
  "nbformat_minor": 0,
  "metadata": {
    "colab": {
      "provenance": [],
      "authorship_tag": "ABX9TyPdwB1HE7f8J65FyfKhvur7",
      "include_colab_link": true
    },
    "kernelspec": {
      "name": "python3",
      "display_name": "Python 3"
    },
    "language_info": {
      "name": "python"
    }
  },
  "cells": [
    {
      "cell_type": "markdown",
      "metadata": {
        "id": "view-in-github",
        "colab_type": "text"
      },
      "source": [
        "<a href=\"https://colab.research.google.com/github/DJunichiR/Desain-Analisis-Algoritma/blob/main/Desain_Analisis_Algoritma.ipynb\" target=\"_parent\"><img src=\"https://colab.research.google.com/assets/colab-badge.svg\" alt=\"Open In Colab\"/></a>"
      ]
    },
    {
      "cell_type": "code",
      "execution_count": null,
      "metadata": {
        "colab": {
          "base_uri": "https://localhost:8080/"
        },
        "id": "XsTxk1gmrz5H",
        "outputId": "b71c245a-dba4-4c34-8bbd-dd68c7c898bf"
      },
      "outputs": [
        {
          "output_type": "stream",
          "name": "stdout",
          "text": [
            "Volume kerucut =: 26.166666666666664\n"
          ]
        }
      ],
      "source": [
        "#Diketahui\n",
        "d = 5\n",
        "t = 4\n",
        "r = d / 2\n",
        "pi = 3.14\n",
        "\n",
        "#Rumus Volume Kerucut = 1/3 x pi x r**2 x t\n",
        "volume = (1/3) * pi * (r ** 2) * t\n",
        "\n",
        "print(\"Volume Kerucut =\", volume)"
      ]
    },
    {
      "cell_type": "code",
      "source": [
        "def swap(x, y):\n",
        "    # Membuat list piring dengan 3 elemen\n",
        "    piring = [x, y, \"\"]\n",
        "\n",
        "    # Menukar nilai x dan y\n",
        "    piring[0] = y\n",
        "    piring[1] = x\n",
        "\n",
        "    # Mengosongkan piring ke-3\n",
        "    piring[2] = \"\"\n",
        "\n",
        "    # Menampilkan isi setiap piring\n",
        "    for i in range(len(piring)):\n",
        "        print(\"piring\", i+1, \"=\", str(piring[i]))\n",
        "\n",
        "x = \"manggis\"\n",
        "y = \"pisang\"\n",
        "\n",
        "print(\"piring 1 =\", x)\n",
        "print(\"piring 2 =\", y)\n",
        "print(\"piring 3 = \")\n",
        "\n",
        "print(\"\\nHasil penukaran:\")\n",
        "swap(x, y)\n"
      ],
      "metadata": {
        "colab": {
          "base_uri": "https://localhost:8080/"
        },
        "id": "MzzXkOGvRzzs",
        "outputId": "3dbd5d9b-945f-443b-9367-ff5b66939ab8"
      },
      "execution_count": null,
      "outputs": [
        {
          "output_type": "stream",
          "name": "stdout",
          "text": [
            "piring 1 = manggis\n",
            "piring 2 = pisang\n",
            "piring 3 = \n",
            "\n",
            "Hasil penukaran:\n",
            "piring 1 = pisang\n",
            "piring 2 = manggis\n",
            "piring 3 = \n"
          ]
        }
      ]
    },
    {
      "cell_type": "code",
      "source": [
        "#Diketahui\n",
        "p = 5\n",
        "t = 3\n",
        "\n",
        "#Rumus Luas Jajar Genjang = Panjang x Tinggi\n",
        "luas = p * t\n",
        "print(\"Luas Jajar Genjang = \", luas)\n"
      ],
      "metadata": {
        "colab": {
          "base_uri": "https://localhost:8080/"
        },
        "id": "SjmOFs_LwKUb",
        "outputId": "7777f0e7-f324-465d-f6a0-98b8050efe89"
      },
      "execution_count": null,
      "outputs": [
        {
          "output_type": "stream",
          "name": "stdout",
          "text": [
            "Luas Jajar Genjang =  15\n"
          ]
        }
      ]
    },
    {
      "cell_type": "code",
      "source": [
        "#Diketahui\n",
        "a = 25\n",
        "t = 30\n",
        "\n",
        "#Rumus Luas Segitiga = 1/2 x alas x tinggi\n",
        "luas = 1/2 * a * t\n",
        "print(\"Luas Segitiga = \", luas)"
      ],
      "metadata": {
        "colab": {
          "base_uri": "https://localhost:8080/"
        },
        "id": "NClM75Q0y-Ri",
        "outputId": "78b5b505-f507-4dc0-bfd8-bcbd8093cb1e"
      },
      "execution_count": null,
      "outputs": [
        {
          "output_type": "stream",
          "name": "stdout",
          "text": [
            "Luas Segitiga =  375.0\n"
          ]
        }
      ]
    },
    {
      "cell_type": "code",
      "source": [
        "#Diketahui\n",
        "r = 3\n",
        "t = 5\n",
        "pi = 3.14\n",
        "\n",
        "#Rumus Volume Tabung = pi * r**2 * t\n",
        "volume = 3.14 * r**2 * t\n",
        "print(\"Volume Tabung = \", volume)"
      ],
      "metadata": {
        "colab": {
          "base_uri": "https://localhost:8080/"
        },
        "id": "RrKVzmTw0QgS",
        "outputId": "1af4ca61-a98a-4d90-bf10-0f6286573c00"
      },
      "execution_count": null,
      "outputs": [
        {
          "output_type": "stream",
          "name": "stdout",
          "text": [
            "Volume Tabung =  141.3\n"
          ]
        }
      ]
    },
    {
      "cell_type": "code",
      "source": [
        "def kpk(a, b):\n",
        "    if a > b:\n",
        "        terbesar = a\n",
        "    else:\n",
        "        terbesar = b\n",
        "\n",
        "    while True:\n",
        "        if terbesar % a == 0 and terbesar % b == 0:\n",
        "            kpk = terbesar\n",
        "            break\n",
        "        terbesar += 1\n",
        "\n",
        "    return kpk\n",
        "a = 3\n",
        "b = 4\n",
        "kpk = kpk(a, b)\n",
        "print(\"KPK dari\", a, \"dan\", b, \"yaitu\", kpk)"
      ],
      "metadata": {
        "colab": {
          "base_uri": "https://localhost:8080/"
        },
        "id": "iaKDbnBD0zjy",
        "outputId": "2f04601a-c27a-4313-af13-c685358efe63"
      },
      "execution_count": null,
      "outputs": [
        {
          "output_type": "stream",
          "name": "stdout",
          "text": [
            "KPK dari 3 dan 4 yaitu 12\n"
          ]
        }
      ]
    },
    {
      "cell_type": "markdown",
      "source": [
        "#PERTEMUAN 2 6-September-2023"
      ],
      "metadata": {
        "id": "GYOGG1RKUAZ9"
      }
    },
    {
      "cell_type": "code",
      "source": [
        "import numpy as np\n",
        "a = [1, 2, 3]\n",
        "b = [4, 5, 6]\n",
        "\n",
        "hasil = a + b\n",
        "print(hasil)"
      ],
      "metadata": {
        "id": "pYcDqbCdzwzD",
        "colab": {
          "base_uri": "https://localhost:8080/"
        },
        "outputId": "dc18cc15-bab2-42e5-b8d4-349afbfbad14"
      },
      "execution_count": null,
      "outputs": [
        {
          "output_type": "stream",
          "name": "stdout",
          "text": [
            "[1, 2, 3, 4, 5, 6]\n"
          ]
        }
      ]
    },
    {
      "cell_type": "code",
      "source": [
        "import numpy as np\n",
        "#membuat array\n",
        "nilai_siswa = np.array([85, 55, 40, 90])#size dikurangi 1\n",
        "\n",
        "#mengakses data pada array\n",
        "print(nilai_siswa[3])\n"
      ],
      "metadata": {
        "colab": {
          "base_uri": "https://localhost:8080/"
        },
        "id": "uDRr-coPI6Rh",
        "outputId": "3631f115-9b10-4d84-e09d-2142f410ae14"
      },
      "execution_count": null,
      "outputs": [
        {
          "output_type": "stream",
          "name": "stdout",
          "text": [
            "90\n"
          ]
        }
      ]
    },
    {
      "cell_type": "code",
      "source": [
        "import numpy as np\n",
        "def add(list_a, list_b):\n",
        "  result = []\n",
        "  for first, second in zip(list_a, list_b):\n",
        "    result.append(first+second)\n",
        "    return result"
      ],
      "metadata": {
        "id": "ALMw67ZVNLs-"
      },
      "execution_count": null,
      "outputs": []
    },
    {
      "cell_type": "code",
      "source": [
        "import numpy as np\n",
        "print(np.__version__)"
      ],
      "metadata": {
        "colab": {
          "base_uri": "https://localhost:8080/"
        },
        "id": "0gpG_tbCOQ7W",
        "outputId": "215967a9-75ba-474e-d893-d87e142ea7c3"
      },
      "execution_count": null,
      "outputs": [
        {
          "output_type": "stream",
          "name": "stdout",
          "text": [
            "1.23.5\n"
          ]
        }
      ]
    },
    {
      "cell_type": "markdown",
      "source": [
        "#Big O Notation\n",
        "##Constant time (O(1)) Complexity\n",
        "###Big O Notation"
      ],
      "metadata": {
        "id": "dPqSMAHHPpzd"
      }
    },
    {
      "cell_type": "markdown",
      "source": [],
      "metadata": {
        "id": "G557A7ANLhWR"
      }
    },
    {
      "cell_type": "code",
      "source": [
        "print(\"Hellow, World!\")\n",
        "print(\"Nama saya (Daffa Junichi Rahadi)\")\n",
        "print(\"NIM saya (2022071005)\")"
      ],
      "metadata": {
        "colab": {
          "base_uri": "https://localhost:8080/"
        },
        "id": "NYUyttdXRNY7",
        "outputId": "547bf485-1ee6-4580-c9de-49e82191fa4a"
      },
      "execution_count": null,
      "outputs": [
        {
          "output_type": "stream",
          "name": "stdout",
          "text": [
            "Hellow, World!\n",
            "Nama saya (Daffa Junichi Rahadi)\n",
            "NIM saya (2022071005)\n"
          ]
        }
      ]
    },
    {
      "cell_type": "code",
      "source": [
        "import numpy as np\n",
        "\n",
        "if 5>2:\n",
        "  print(\"Five is greater than two!\")"
      ],
      "metadata": {
        "colab": {
          "base_uri": "https://localhost:8080/"
        },
        "id": "DWGz7hfBSnoB",
        "outputId": "a108491d-fc7b-4c8a-8e08-148a93ba6667"
      },
      "execution_count": null,
      "outputs": [
        {
          "output_type": "stream",
          "name": "stdout",
          "text": [
            "Five is greater than two!\n"
          ]
        }
      ]
    },
    {
      "cell_type": "code",
      "source": [
        "import numpy as np\n",
        "\n",
        "x = 5\n",
        "y = \"John\"\n",
        "\n",
        "print(x)\n",
        "print(y)"
      ],
      "metadata": {
        "colab": {
          "base_uri": "https://localhost:8080/"
        },
        "id": "zsMnUIaVTJ4F",
        "outputId": "ae63b6ae-3d11-4ff4-cb8e-5faf432479cb"
      },
      "execution_count": null,
      "outputs": [
        {
          "output_type": "stream",
          "name": "stdout",
          "text": [
            "5\n",
            "John\n"
          ]
        }
      ]
    },
    {
      "cell_type": "code",
      "source": [
        "import numpy as np\n",
        "\n",
        "x = 4\n",
        "x = \"Sally\"\n",
        "print(x)"
      ],
      "metadata": {
        "colab": {
          "base_uri": "https://localhost:8080/"
        },
        "id": "9eDes78ATThH",
        "outputId": "5312b275-aa9e-4487-b28c-6bc55e7e35c9"
      },
      "execution_count": null,
      "outputs": [
        {
          "output_type": "stream",
          "name": "stdout",
          "text": [
            "Sally\n"
          ]
        }
      ]
    },
    {
      "cell_type": "code",
      "source": [
        "import numpy as np\n",
        "\n",
        "def getFirst(myList):\n",
        "  return myList[0]"
      ],
      "metadata": {
        "id": "4t0pWNexWHqt"
      },
      "execution_count": null,
      "outputs": []
    },
    {
      "cell_type": "code",
      "source": [
        "getFirst([1,2,3])"
      ],
      "metadata": {
        "colab": {
          "base_uri": "https://localhost:8080/"
        },
        "id": "d-fAeq4HWWlU",
        "outputId": "8db5cff6-0378-4448-ebfc-fc82f8a6ecea"
      },
      "execution_count": null,
      "outputs": [
        {
          "output_type": "execute_result",
          "data": {
            "text/plain": [
              "1"
            ]
          },
          "metadata": {},
          "execution_count": 48
        }
      ]
    },
    {
      "cell_type": "code",
      "source": [
        "import numpy as np\n",
        "\n",
        "def getSecond(myList):\n",
        "  return myList[1]"
      ],
      "metadata": {
        "id": "fr3I3-9ET3oi"
      },
      "execution_count": null,
      "outputs": []
    },
    {
      "cell_type": "code",
      "source": [
        "getSecond([1,2,3])"
      ],
      "metadata": {
        "colab": {
          "base_uri": "https://localhost:8080/"
        },
        "id": "Dr5MjNrwUxlL",
        "outputId": "aa387fdd-0a93-466c-9583-84ee88e8ea42"
      },
      "execution_count": null,
      "outputs": [
        {
          "output_type": "execute_result",
          "data": {
            "text/plain": [
              "2"
            ]
          },
          "metadata": {},
          "execution_count": 45
        }
      ]
    },
    {
      "cell_type": "code",
      "source": [
        "import numpy as np\n",
        "\n",
        "def getLast(myList):\n",
        "  return myList[len(myList)-1] #myList[len(myList)]-1 untuk mencari hasil terakhir"
      ],
      "metadata": {
        "id": "e_ERUB_1XpKo"
      },
      "execution_count": null,
      "outputs": []
    },
    {
      "cell_type": "code",
      "source": [
        "getLast([1,2,3])"
      ],
      "metadata": {
        "colab": {
          "base_uri": "https://localhost:8080/"
        },
        "id": "xXQkEaYxX4dZ",
        "outputId": "9f562304-74e0-4a7b-80e3-671bf0a91e68"
      },
      "execution_count": null,
      "outputs": [
        {
          "output_type": "execute_result",
          "data": {
            "text/plain": [
              "3"
            ]
          },
          "metadata": {},
          "execution_count": 54
        }
      ]
    },
    {
      "cell_type": "code",
      "source": [
        "getLast([1,2,3,4,5,6,7,8,9,10])"
      ],
      "metadata": {
        "colab": {
          "base_uri": "https://localhost:8080/"
        },
        "id": "OBn-9OCjY-Iw",
        "outputId": "2acad5aa-7acd-4aee-fd66-16afa14c4ae5"
      },
      "execution_count": null,
      "outputs": [
        {
          "output_type": "execute_result",
          "data": {
            "text/plain": [
              "10"
            ]
          },
          "metadata": {},
          "execution_count": 148
        }
      ]
    },
    {
      "cell_type": "code",
      "source": [
        "def getSum(myList):\n",
        "  sum = 0\n",
        "  for item in myList:\n",
        "    sum = sum+item #mencari pertambahan\n",
        "  return sum\n"
      ],
      "metadata": {
        "id": "kISKghwKajYH"
      },
      "execution_count": 3,
      "outputs": []
    },
    {
      "cell_type": "code",
      "source": [
        "getSum([20,2])"
      ],
      "metadata": {
        "colab": {
          "base_uri": "https://localhost:8080/"
        },
        "id": "Ivkepm8aa1zI",
        "outputId": "093bef28-3b79-459a-a73e-f967d542142c"
      },
      "execution_count": null,
      "outputs": [
        {
          "output_type": "execute_result",
          "data": {
            "text/plain": [
              "22"
            ]
          },
          "metadata": {},
          "execution_count": 150
        }
      ]
    },
    {
      "cell_type": "code",
      "source": [
        "def getKali(myList):\n",
        "  kali = 1\n",
        "  for item in myList:\n",
        "    kali  = kali*item #mencari perkalian\n",
        "  return kali\n"
      ],
      "metadata": {
        "id": "UcH7ywZ3iD5c"
      },
      "execution_count": null,
      "outputs": []
    },
    {
      "cell_type": "code",
      "source": [
        "getKali([5,2])"
      ],
      "metadata": {
        "colab": {
          "base_uri": "https://localhost:8080/"
        },
        "id": "Zd93j8ARiTrn",
        "outputId": "b783e499-9603-4702-ef95-8670ae8ff683"
      },
      "execution_count": null,
      "outputs": [
        {
          "output_type": "execute_result",
          "data": {
            "text/plain": [
              "10"
            ]
          },
          "metadata": {},
          "execution_count": 130
        }
      ]
    },
    {
      "cell_type": "code",
      "source": [
        "def getBagi(myList):\n",
        "  bagi = 1\n",
        "  for item in myList:\n",
        "    bagi  = bagi/item #mencari pembagian\n",
        "  return bagi #ngebaginya ampe abis"
      ],
      "metadata": {
        "id": "M6BNxFQBi9L3"
      },
      "execution_count": null,
      "outputs": []
    },
    {
      "cell_type": "code",
      "source": [
        "getBagi([25,5,5,3])"
      ],
      "metadata": {
        "colab": {
          "base_uri": "https://localhost:8080/"
        },
        "id": "tx7u3o7RjCUn",
        "outputId": "fcceb86e-ab47-41e3-81a1-e2c80e6440db"
      },
      "execution_count": null,
      "outputs": [
        {
          "output_type": "execute_result",
          "data": {
            "text/plain": [
              "0.0005333333333333334"
            ]
          },
          "metadata": {},
          "execution_count": 154
        }
      ]
    },
    {
      "cell_type": "code",
      "source": [
        "def getAvg(mylist):\n",
        "  return getSum(mylist) / len(mylist)\n",
        "getAvg([1,2,3,4])#Nilai Rata-rata"
      ],
      "metadata": {
        "colab": {
          "base_uri": "https://localhost:8080/"
        },
        "id": "G-qzHxp9jX99",
        "outputId": "f65972af-d35d-4a5a-9781-180c8586495b"
      },
      "execution_count": null,
      "outputs": [
        {
          "output_type": "execute_result",
          "data": {
            "text/plain": [
              "2.5"
            ]
          },
          "metadata": {},
          "execution_count": 155
        }
      ]
    },
    {
      "cell_type": "code",
      "source": [
        "import numpy as np\n",
        "a = [1,2,3]\n",
        "b = [4,5,6]\n",
        "\n",
        "def kurang(list_a, list_b):\n",
        "  result = []\n",
        "  for first, second in zip(list_a, list_b):\n",
        "    result.append(first - second)\n",
        "  return result\n",
        "kurang(a,b)"
      ],
      "metadata": {
        "colab": {
          "base_uri": "https://localhost:8080/"
        },
        "id": "E3RoNWhMrwl0",
        "outputId": "05e5a9bc-be03-475e-a2e0-21d59aa59e8e"
      },
      "execution_count": null,
      "outputs": [
        {
          "output_type": "execute_result",
          "data": {
            "text/plain": [
              "[-3, -3, -3]"
            ]
          },
          "metadata": {},
          "execution_count": 157
        }
      ]
    },
    {
      "cell_type": "code",
      "source": [
        "x = ([1,2,3,4,5])\n",
        "y = ([1,2,3,4,5])\n",
        "hasil = sum(x) / sum(y)\n",
        "print(hasil)"
      ],
      "metadata": {
        "id": "4qqT5EdXt5dm",
        "colab": {
          "base_uri": "https://localhost:8080/"
        },
        "outputId": "b304954d-db8d-446e-ce84-b63f9dfdca15"
      },
      "execution_count": 1,
      "outputs": [
        {
          "output_type": "stream",
          "name": "stdout",
          "text": [
            "1.0\n"
          ]
        }
      ]
    },
    {
      "cell_type": "code",
      "source": [
        "def kurang(list_a, list_b):\n",
        "  return getSum(list_a) - getSum(list_b)\n",
        "\n",
        "kurang([1,2,3,4],[5,6,7,8])"
      ],
      "metadata": {
        "colab": {
          "base_uri": "https://localhost:8080/"
        },
        "id": "Pq5cqHy9ZpO2",
        "outputId": "0a6e4ba9-c1f7-49ae-8279-73adedb30060"
      },
      "execution_count": 4,
      "outputs": [
        {
          "output_type": "execute_result",
          "data": {
            "text/plain": [
              "-16"
            ]
          },
          "metadata": {},
          "execution_count": 4
        }
      ]
    },
    {
      "cell_type": "code",
      "source": [
        "def bagi(list_a, list_b):\n",
        "  return getSum(list_a) / getSum(list_b)\n",
        "\n",
        "bagi([1,2,3,4],[5,6,7,8])"
      ],
      "metadata": {
        "colab": {
          "base_uri": "https://localhost:8080/"
        },
        "id": "pvDY0MslZ8GY",
        "outputId": "0a7625c1-f35f-4868-ce15-23e4312f0e85"
      },
      "execution_count": 5,
      "outputs": [
        {
          "output_type": "execute_result",
          "data": {
            "text/plain": [
              "0.38461538461538464"
            ]
          },
          "metadata": {},
          "execution_count": 5
        }
      ]
    }
  ]
}